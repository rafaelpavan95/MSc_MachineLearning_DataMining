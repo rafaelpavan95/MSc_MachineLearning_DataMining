{
 "cells": [
  {
   "cell_type": "markdown",
   "metadata": {},
   "source": [
    "<span style='font-family:serif'>\n",
    "    \n",
    "# <center>$Machine   Learning   From   Scratch$</center>\n",
    "# <center><span style='background:yellow'>Regressão Logística</span></center>\n",
    "<center>$Rafael Pavan$</center>\n",
    "\n"
   ]
  },
  {
   "cell_type": "markdown",
   "metadata": {},
   "source": [
    "<span style='font-family:serif'>\n",
    "    \n",
    "## 1. Introdução\n",
    "\n"
   ]
  },
  {
   "cell_type": "markdown",
   "metadata": {},
   "source": [
    "A Regressão Logı́stica é um método de aprendizado supervisionado baseado em otimização, que tem como objetivo calcular a probabilidade de uma amostra pertencer a uma determinada classe, modelando o resultado através da função sigmoidal. É uma técnica tradicional de classificação que serve como base para outros métodos mais avançados, como as redes neurais e as máquinas de vetores de suporte.\n"
   ]
  },
  {
   "cell_type": "code",
   "execution_count": 192,
   "metadata": {},
   "outputs": [],
   "source": [
    "import numpy as np \n",
    "import pandas as pd\n",
    "import matplotlib.pyplot as plt\n",
    "from matplotlib import rcParams\n",
    "from random import randrange\n",
    "rcParams['font.family'] = 'sans-serif'"
   ]
  },
  {
   "cell_type": "markdown",
   "metadata": {},
   "source": [
    "<span style='font-family:serif'>\n",
    "    \n",
    "## 2. Importando e Pré-Visualizando os Dados\n",
    "    \n",
    "Os dados representam a classificação de 2 espécies de plantas com base na largura e comprimento de pétala.\n"
   ]
  },
  {
   "cell_type": "code",
   "execution_count": 193,
   "metadata": {
    "nbpresent": {
     "id": "b274d631-4f72-4234-89ec-444cfe36a1ac"
    }
   },
   "outputs": [],
   "source": [
    "df = pd.read_csv( 'dados.csv', sep=',')"
   ]
  },
  {
   "cell_type": "code",
   "execution_count": 194,
   "metadata": {
    "nbpresent": {
     "id": "e6fc786d-681a-4f29-9932-e46534412e22"
    }
   },
   "outputs": [
    {
     "data": {
      "text/html": [
       "<div>\n",
       "<style scoped>\n",
       "    .dataframe tbody tr th:only-of-type {\n",
       "        vertical-align: middle;\n",
       "    }\n",
       "\n",
       "    .dataframe tbody tr th {\n",
       "        vertical-align: top;\n",
       "    }\n",
       "\n",
       "    .dataframe thead th {\n",
       "        text-align: right;\n",
       "    }\n",
       "</style>\n",
       "<table border=\"1\" class=\"dataframe\">\n",
       "  <thead>\n",
       "    <tr style=\"text-align: right;\">\n",
       "      <th></th>\n",
       "      <th>largura_petala</th>\n",
       "      <th>comprimento_petala</th>\n",
       "      <th>classe</th>\n",
       "    </tr>\n",
       "  </thead>\n",
       "  <tbody>\n",
       "    <tr>\n",
       "      <th>0</th>\n",
       "      <td>4.9</td>\n",
       "      <td>3.1</td>\n",
       "      <td>0</td>\n",
       "    </tr>\n",
       "    <tr>\n",
       "      <th>1</th>\n",
       "      <td>4.4</td>\n",
       "      <td>3.0</td>\n",
       "      <td>0</td>\n",
       "    </tr>\n",
       "    <tr>\n",
       "      <th>2</th>\n",
       "      <td>5.7</td>\n",
       "      <td>4.4</td>\n",
       "      <td>0</td>\n",
       "    </tr>\n",
       "    <tr>\n",
       "      <th>3</th>\n",
       "      <td>5.5</td>\n",
       "      <td>4.2</td>\n",
       "      <td>0</td>\n",
       "    </tr>\n",
       "    <tr>\n",
       "      <th>4</th>\n",
       "      <td>4.9</td>\n",
       "      <td>3.1</td>\n",
       "      <td>0</td>\n",
       "    </tr>\n",
       "  </tbody>\n",
       "</table>\n",
       "</div>"
      ],
      "text/plain": [
       "   largura_petala  comprimento_petala  classe\n",
       "0             4.9                 3.1       0\n",
       "1             4.4                 3.0       0\n",
       "2             5.7                 4.4       0\n",
       "3             5.5                 4.2       0\n",
       "4             4.9                 3.1       0"
      ]
     },
     "execution_count": 194,
     "metadata": {},
     "output_type": "execute_result"
    }
   ],
   "source": [
    "df.head()"
   ]
  },
  {
   "cell_type": "code",
   "execution_count": 195,
   "metadata": {
    "nbpresent": {
     "id": "66b4b9cc-ebb3-4d13-af8a-63d12cb23725"
    }
   },
   "outputs": [
    {
     "name": "stdout",
     "output_type": "stream",
     "text": [
      "X: [[4.9 3.1]\n",
      " [4.4 3. ]\n",
      " [5.7 4.4]\n",
      " [5.5 4.2]\n",
      " [4.9 3.1]]\n",
      "Y: [0 0 0 0 0]\n"
     ]
    }
   ],
   "source": [
    "X = df.iloc[:, 0:-1].values\n",
    "\n",
    "Y = df.iloc[:, -1].values #TARGET\n",
    "\n",
    "print('X:', X[0:5,:])\n",
    "\n",
    "print('Y:', Y[0:5])"
   ]
  },
  {
   "cell_type": "markdown",
   "metadata": {
    "nbpresent": {
     "id": "e22583ed-a7a5-4a8f-945f-4342b5ca4523"
    }
   },
   "source": [
    "Agora, vamos criar uma função para plotar os dados."
   ]
  },
  {
   "cell_type": "code",
   "execution_count": 196,
   "metadata": {},
   "outputs": [
    {
     "data": {
      "image/png": "[encoded data removed]",
      "text/plain": [
       "<Figure size 1152x720 with 1 Axes>"
      ]
     },
     "metadata": {
      "needs_background": "light"
     },
     "output_type": "display_data"
    }
   ],
   "source": [
    "def visualizaDados(X,Y):\n",
    "\n",
    "    \"\"\"\n",
    "    Função usada para plotar os dados.\n",
    "    \"\"\"\n",
    "    plt.figure(figsize=(16,10))\n",
    "    \n",
    "    plt.scatter( X[Y==0,1], X[Y==0,0], label='A', marker='o', color='red', s=80) \n",
    "    plt.scatter( X[Y==1,1], X[Y==1,0], label='B', marker='+', color='blue', s=80) \n",
    "    plt.ylabel('Largura',fontsize='medium') \n",
    "    plt.xlabel('Comprimento',fontsize='medium') \n",
    "    plt.title(\"Espécies\", fontsize='x-large')\n",
    "    plt.grid()\n",
    "    \n",
    "visualizaDados(X,Y)\n",
    "\n",
    "plt.show()"
   ]
  },
  {
   "cell_type": "markdown",
   "metadata": {},
   "source": [
    "<span style='font-family:serif'>\n",
    "    \n",
    "## 2. Função Sigmoidal\n",
    "\n",
    "A função sigmoide é uma função matemática de amplo uso em campos como a economia e a computação. Ela pode ser calculada por:\n",
    "    \n",
    "$$ g(z) = \\frac{1}{1 + e^{-z}}. $$"
   ]
  },
  {
   "cell_type": "code",
   "execution_count": 197,
   "metadata": {
    "nbpresent": {
     "id": "d8183ff0-4a56-4209-bd1e-04379658d23b"
    }
   },
   "outputs": [],
   "source": [
    "def sigmoid(z):\n",
    "    \n",
    "    \"\"\"\n",
    "    Calcula a funcao sigmoidal  \n",
    "    \"\"\"\n",
    "    \n",
    "    if isinstance(z, int):\n",
    "        \n",
    "        g = 0\n",
    "    \n",
    "    else:\n",
    "    \n",
    "        g = np.zeros( z.shape );\n",
    "     \n",
    "    g = 1/(1+np.exp(-z))\n",
    "    \n",
    "    return g\n"
   ]
  },
  {
   "cell_type": "markdown",
   "metadata": {},
   "source": [
    "<span style='font-family:serif'>\n",
    "    \n",
    "## 3. Cálculo da Hipótese (Previsão)\n",
    "\n",
    "A hipótese $h_\\theta(x)$ pode ser calculada pela expressão:\n",
    "\n",
    "$$ h_\\theta(x) = g \\left(\\theta^T x \\right), $$"
   ]
  },
  {
   "cell_type": "code",
   "execution_count": 198,
   "metadata": {},
   "outputs": [],
   "source": [
    "m, n = X.shape \n",
    "\n",
    "X = np.column_stack( (np.ones(m),X) )\n",
    "\n",
    "theta = np.ones(n+1) "
   ]
  },
  {
   "cell_type": "code",
   "execution_count": 199,
   "metadata": {},
   "outputs": [],
   "source": [
    "def hipotese(X,theta):\n",
    "            \n",
    "    \"\"\"\n",
    "    \n",
    "    Calcula a hipótese\n",
    "    \n",
    "    \"\"\"\n",
    "    \n",
    "    hip = np.zeros(theta.shape)\n",
    "    \n",
    "    hip = sigmoid(np.dot(X, theta))\n",
    "    \n",
    "    return hip"
   ]
  },
  {
   "cell_type": "code",
   "execution_count": 200,
   "metadata": {},
   "outputs": [
    {
     "data": {
      "text/plain": [
       "array([0.99987661, 0.99977518, 0.99998489, 0.99997746, 0.99987661,\n",
       "       0.99984929, 0.99993228, 0.99995892, 0.99991728, 0.99992515,\n",
       "       0.99989897, 0.99986363, 0.99983344, 0.99992515, 0.99986363,\n",
       "       0.99990858, 0.99984929, 0.99993228, 0.99984929, 0.99990858,\n",
       "       0.99996637, 0.99981593, 0.99986363, 0.99992515, 0.99997746,\n",
       "       0.99987661, 0.99995892, 0.99975154, 0.99991728, 0.99991728,\n",
       "       0.99993872, 0.99984929, 0.99997508, 0.99986363, 0.99991728,\n",
       "       0.99994455, 0.99991728, 0.99987661, 0.99989897, 0.99998633,\n",
       "       0.99989897, 0.9999796 , 0.99987661, 0.99975154, 0.99993872,\n",
       "       0.99975154, 0.9999796 , 0.9999796 , 0.99993872, 0.99975154,\n",
       "       0.99988835, 0.99997246, 0.99992515, 0.99997508, 0.99997508,\n",
       "       0.99994983, 0.99997246, 0.99966465, 0.99994983, 0.99991728,\n",
       "       0.99992515, 0.99994983, 0.99986363, 0.99994983, 0.99996637,\n",
       "       0.99986363, 0.99994983, 0.99990858, 0.99993228, 0.99996637,\n",
       "       0.99994455, 0.99997508, 0.99992515, 0.99981593, 0.99992515,\n",
       "       0.9999546 , 0.99995892, 0.99959043, 0.99994983, 0.99992515,\n",
       "       0.9999833 , 0.99989897, 0.9999546 , 0.99993228, 0.99989897,\n",
       "       0.9999546 , 0.99994983, 0.99993228, 0.99993228, 0.99995892])"
      ]
     },
     "execution_count": 200,
     "metadata": {},
     "output_type": "execute_result"
    }
   ],
   "source": [
    "hipotese(X,theta)"
   ]
  },
  {
   "cell_type": "markdown",
   "metadata": {},
   "source": [
    "<span style='font-family:serif'>\n",
    "    \n",
    "## 4. Cálculo da Função de Custo\n",
    "\n",
    "A função de custo, por sua vez, pode ser expressa por:\n",
    "    \n",
    "$$ J(\\theta) = \\frac{1}{m} \\sum_{i=1}^{m} \\left[-y^{(i)} \\log\\left(h_\\theta(x^{(i)})\\right) - \\left(1 - y^{(i)}\\right) \\log\\left(1 - h_\\theta(x^{(i)})\\right) \\right], $$\n",
    "    \n",
    "E o gradiente desta funçao pode ser dado por:\n",
    "    \n",
    "$$\\frac{\\partial J(\\theta)}{\\partial \\theta_j} = \\frac{1}{m} \\sum_{i=1}^{m} \\left(h_\\theta(x^{(i)}) - y^{(i)} \\right).x_{j}^{(i)}.$$\n"
   ]
  },
  {
   "cell_type": "code",
   "execution_count": 201,
   "metadata": {
    "nbpresent": {
     "id": "521de916-1c6f-48d5-9109-d13519ca5e81"
    },
    "scrolled": true
   },
   "outputs": [],
   "source": [
    "def funcaoCustoEGrad(theta, X, Y):\n",
    "    \n",
    "    \"\"\"\n",
    "    \n",
    "    Calcula o custo de usar theta como parametro da regressao logistica \n",
    "    para ajustar os dados de X e Y. \n",
    "    \n",
    "    \"\"\"\n",
    "    \n",
    "    m = len(Y) \n",
    "    \n",
    "    J = 0;\n",
    "    \n",
    "    grad = np.zeros( len(theta) );\n",
    "    \n",
    "    eps = 1e-19\n",
    "    \n",
    "    n = X.shape[1] \n",
    "    \n",
    "    J = (1 / m) * np.sum(-Y * np.log(eps+hipotese(X, theta)) - (1 - Y) * np.log(1 - hipotese(X, theta) + eps))\n",
    "    \n",
    "    for i in range(n):\n",
    "        grad[i] = (1/m) * np.dot(X[:,i].T, hipotese(X, theta) - Y)\n",
    "     \n",
    "    return J,grad"
   ]
  },
  {
   "cell_type": "code",
   "execution_count": 202,
   "metadata": {},
   "outputs": [
    {
     "data": {
      "text/plain": [
       "(4.6978698134732735, array([0.49990797, 2.49397187, 1.7030654 ]))"
      ]
     },
     "execution_count": 202,
     "metadata": {},
     "output_type": "execute_result"
    }
   ],
   "source": [
    "funcaoCustoEGrad(theta, X, Y)"
   ]
  },
  {
   "cell_type": "markdown",
   "metadata": {},
   "source": [
    "<span style='font-family:serif'>\n",
    "    \n",
    "## 5. Otimizando com o Scipy\n",
    "\n",
    "Para utilização do Scipy, no método abaixo, deve-se passar a função de custo bem como a matriz jacobiana para se realizar a otimização. Como nossa expressão de custo é única, o nosso gradiente é equivalente ao jacobiano."
   ]
  },
  {
   "cell_type": "code",
   "execution_count": 203,
   "metadata": {},
   "outputs": [
    {
     "name": "stdout",
     "output_type": "stream",
     "text": [
      "Optimization terminated successfully.\n",
      "         Current function value: 0.000053\n",
      "         Iterations: 24\n",
      "         Function evaluations: 32\n",
      "         Gradient evaluations: 293\n",
      "         Hessian evaluations: 0\n",
      "\n",
      "Custo encontrado: 0.000053\n",
      "\n"
     ]
    }
   ],
   "source": [
    "import scipy.optimize  \n",
    "\n",
    "MaxIter = 500\n",
    "\n",
    "theta = np.zeros(n+1)\n",
    "\n",
    "# minimiza a funcao de custo\n",
    "result = scipy.optimize.minimize(fun=funcaoCusto, x0=theta, args=(X, Y),  \n",
    "                method='Newton-CG', jac=True, options={'maxiter': MaxIter, 'disp':True})\n",
    "\n",
    "# coleta os thetas retornados pela função de minimização\n",
    "theta = result.x\n",
    "\n",
    "custo, grad = funcaoCusto(theta, X, Y) \n",
    "\n",
    "print('\\nCusto encontrado: %f\\n' %custo)"
   ]
  },
  {
   "cell_type": "code",
   "execution_count": 204,
   "metadata": {},
   "outputs": [
    {
     "data": {
      "text/plain": [
       "     fun: 5.2886856098221164e-05\n",
       "     jac: array([ 1.67196137e-06, -1.38398944e-06,  3.09485820e-06])\n",
       " message: 'Optimization terminated successfully.'\n",
       "    nfev: 32\n",
       "    nhev: 0\n",
       "     nit: 24\n",
       "    njev: 293\n",
       "  status: 0\n",
       " success: True\n",
       "       x: array([-115.91809772,   43.19088836,  -36.90940586])"
      ]
     },
     "execution_count": 204,
     "metadata": {},
     "output_type": "execute_result"
    }
   ],
   "source": [
    "result"
   ]
  },
  {
   "cell_type": "code",
   "execution_count": 205,
   "metadata": {},
   "outputs": [
    {
     "data": {
      "text/plain": [
       "array([-18.70190291, -36.60640651, -32.13141984, -33.38771634,\n",
       "       -18.70190291,  36.74015479, -16.81745816,  36.81810371,\n",
       "       -17.44560641,  26.92362954, -34.09381351, -31.03102117,\n",
       "       -31.65916942, -21.136547  ,  33.04921421, -21.76469525,\n",
       "       -19.33005116,  71.29286548, -35.35011001,  34.30551071,\n",
       "        53.4663108 ,  12.08191828,  33.04921421,  34.93365896,\n",
       "        62.73263673, -18.70190291, -19.25210225, -40.92549534,\n",
       "       -25.45563583,  38.62459955,  19.54174836, -19.33005116,\n",
       "        58.41354789,   9.01912594,   6.58448186,  -8.17928049,\n",
       "        70.66471723, -42.73199118, -18.07375466,  68.30802206,\n",
       "       -50.11387235,  59.04169614, -10.69187349, -32.91546592,\n",
       "       -20.50839875,  15.14471061, -13.04856866,  59.04169614,\n",
       "        43.57183663,   7.13468119,  25.66733304,  62.10448848,\n",
       "       -29.14657642,  74.43360674,  34.38345962, -35.90030934,\n",
       "        -9.98577632,  26.21753237,  28.17992604, -25.45563583,\n",
       "        34.93365896, -35.90030934, -31.03102117,  44.19998488,\n",
       "       -42.65404226, -15.01096233,  44.19998488,  26.29548129,\n",
       "        23.23268895, -26.63398342,  63.91098431,  42.39348905,\n",
       "        18.91360011, -43.98828768, -29.14657642, -23.57119108,\n",
       "        44.82813313,  -6.45073357, -35.90030934,  26.92362954,\n",
       "        67.67987381, -34.09381351,  40.5090443 ,  15.22265953,\n",
       "        62.02653956,  -7.55113224,  36.18995546, -32.83751701,\n",
       "       -24.82748758,  20.79804486])"
      ]
     },
     "execution_count": 205,
     "metadata": {},
     "output_type": "execute_result"
    }
   ],
   "source": [
    "x_reg=np.array( [np.min(X[:,1])-2,  np.max(X[:,1])+2] )\n",
    "\n",
    "y_reg=theta[0]+theta[1]*X[:,1] + theta[2]*X[:,2]\n",
    "\n",
    "y_reg"
   ]
  },
  {
   "cell_type": "markdown",
   "metadata": {},
   "source": [
    "<span style='font-family:serif'>\n",
    "    \n",
    "## 6. Visualizando os Dados\n",
    "\n",
    "Como poderemos ver, a froteira de separação para este caso era linear."
   ]
  },
  {
   "cell_type": "code",
   "execution_count": 206,
   "metadata": {},
   "outputs": [
    {
     "data": {
      "text/plain": [
       "[<matplotlib.lines.Line2D at 0x7f16a9306790>]"
      ]
     },
     "execution_count": 206,
     "metadata": {},
     "output_type": "execute_result"
    },
    {
     "data": {
      "image/png": "[encoded data removed]",
      "text/plain": [
       "<Figure size 1152x720 with 1 Axes>"
      ]
     },
     "metadata": {
      "needs_background": "light"
     },
     "output_type": "display_data"
    }
   ],
   "source": [
    "visualizaDados(X[:,1:],Y)\n",
    "\n",
    "\n",
    "plot_x = np.array( [np.min(X[:,1]-2),  np.max(X[:,1]-2)] )\n",
    "plot_y = np.array( (-1/theta[2])*(theta[1]*plot_x + -0.5*theta[0]) ) \n",
    "\n",
    "plt.plot( plot_x, plot_y, label = 'Regressor Linear', color='green', linestyle='-', linewidth=1.5) \n",
    "\n"
   ]
  },
  {
   "cell_type": "markdown",
   "metadata": {},
   "source": [
    "<span style='font-family:serif'>\n",
    "    \n",
    "## 7. Dados Não-Lineares e Regularização\n",
    "    \n",
    "Na maioria dos casos da vida real, os dados não são linearmente separáveis. "
   ]
  },
  {
   "cell_type": "code",
   "execution_count": 207,
   "metadata": {},
   "outputs": [],
   "source": [
    "df = pd.read_csv( 'dados2.csv', sep=',')"
   ]
  },
  {
   "cell_type": "code",
   "execution_count": 208,
   "metadata": {},
   "outputs": [
    {
     "data": {
      "text/html": [
       "<div>\n",
       "<style scoped>\n",
       "    .dataframe tbody tr th:only-of-type {\n",
       "        vertical-align: middle;\n",
       "    }\n",
       "\n",
       "    .dataframe tbody tr th {\n",
       "        vertical-align: top;\n",
       "    }\n",
       "\n",
       "    .dataframe thead th {\n",
       "        text-align: right;\n",
       "    }\n",
       "</style>\n",
       "<table border=\"1\" class=\"dataframe\">\n",
       "  <thead>\n",
       "    <tr style=\"text-align: right;\">\n",
       "      <th></th>\n",
       "      <th>largura_petala</th>\n",
       "      <th>comprimento_petala</th>\n",
       "      <th>classe</th>\n",
       "    </tr>\n",
       "  </thead>\n",
       "  <tbody>\n",
       "    <tr>\n",
       "      <th>0</th>\n",
       "      <td>0.051267</td>\n",
       "      <td>0.69956</td>\n",
       "      <td>1</td>\n",
       "    </tr>\n",
       "    <tr>\n",
       "      <th>1</th>\n",
       "      <td>-0.092742</td>\n",
       "      <td>0.68494</td>\n",
       "      <td>1</td>\n",
       "    </tr>\n",
       "    <tr>\n",
       "      <th>2</th>\n",
       "      <td>-0.213710</td>\n",
       "      <td>0.69225</td>\n",
       "      <td>1</td>\n",
       "    </tr>\n",
       "    <tr>\n",
       "      <th>3</th>\n",
       "      <td>-0.375000</td>\n",
       "      <td>0.50219</td>\n",
       "      <td>1</td>\n",
       "    </tr>\n",
       "    <tr>\n",
       "      <th>4</th>\n",
       "      <td>-0.513250</td>\n",
       "      <td>0.46564</td>\n",
       "      <td>1</td>\n",
       "    </tr>\n",
       "  </tbody>\n",
       "</table>\n",
       "</div>"
      ],
      "text/plain": [
       "   largura_petala  comprimento_petala  classe\n",
       "0        0.051267             0.69956       1\n",
       "1       -0.092742             0.68494       1\n",
       "2       -0.213710             0.69225       1\n",
       "3       -0.375000             0.50219       1\n",
       "4       -0.513250             0.46564       1"
      ]
     },
     "execution_count": 208,
     "metadata": {},
     "output_type": "execute_result"
    }
   ],
   "source": [
    "df.head()"
   ]
  },
  {
   "cell_type": "code",
   "execution_count": 209,
   "metadata": {},
   "outputs": [
    {
     "name": "stdout",
     "output_type": "stream",
     "text": [
      "X: [[ 0.051267  0.69956 ]\n",
      " [-0.092742  0.68494 ]\n",
      " [-0.21371   0.69225 ]\n",
      " [-0.375     0.50219 ]\n",
      " [-0.51325   0.46564 ]]\n",
      "Y: [1 1 1 1 1]\n"
     ]
    }
   ],
   "source": [
    "X = df.iloc[:, 0:-1].values\n",
    "\n",
    "Y = df.iloc[:, -1].values #TARGET\n",
    "\n",
    "print('X:', X[0:5,:])\n",
    "\n",
    "print('Y:', Y[0:5])"
   ]
  },
  {
   "cell_type": "code",
   "execution_count": 210,
   "metadata": {},
   "outputs": [
    {
     "data": {
      "image/png": "[encoded data removed]",
      "text/plain": [
       "<Figure size 1152x720 with 1 Axes>"
      ]
     },
     "metadata": {
      "needs_background": "light"
     },
     "output_type": "display_data"
    }
   ],
   "source": [
    "visualizaDados(X,Y)\n",
    "\n",
    "plt.show()"
   ]
  },
  {
   "cell_type": "markdown",
   "metadata": {},
   "source": [
    "Para realizar a regressão logística neste caso, teremos que transformar os atributos originais em atributos polinomiais."
   ]
  },
  {
   "cell_type": "code",
   "execution_count": 213,
   "metadata": {},
   "outputs": [
    {
     "name": "stdout",
     "output_type": "stream",
     "text": [
      "Dimensão dos atributos do novo conjunto de dados polinomiais: \n",
      " 136\n"
     ]
    }
   ],
   "source": [
    "def atributosPolinomiais(X1,X2):\n",
    "    \"\"\"\n",
    "    Gera atributos polinomiais a partir dos atriburos\n",
    "    originais da base. \n",
    " \n",
    "    Retorna um novo vetor de mais atributos:\n",
    "    X1, X2, X1.^2, X2.^2, X1*X2, X1*X2.^2\n",
    " \n",
    "    As entradas X1, X2 devem ser do mesmo tamanho.\n",
    "    \"\"\"\n",
    "    \n",
    "    grau=15\n",
    "    \n",
    "    if not isinstance(X1,  np.ndarray):\n",
    "        X1 = np.array( [[X1]] )\n",
    "        X2 = np.array( [[X2]] )\n",
    "        \n",
    "    out = np.ones( len(X1) )\n",
    "    \n",
    "    for i in range( 1,grau+1 ):\n",
    "        for j in range( 0,i+1 ):\n",
    "            out_temp = ( X1**(i-j) ) * (X2**j)\n",
    "            \n",
    "            out = np.column_stack( (out,out_temp) ) \n",
    "            \n",
    "    return out\n",
    "\n",
    "X_poli = atributosPolinomiais(X[:,0],X[:,1]) \n",
    "\n",
    "print('Dimensão dos atributos do novo conjunto de dados polinomiais: \\n', X_poli.shape[1])\n"
   ]
  },
  {
   "cell_type": "markdown",
   "metadata": {},
   "source": [
    "Quando aumentamos o grau dos atributos, torna-se necessário adicionar um parâmetro de regularização a função de custo para evitar o overfitting dos dados. A regularização adiciona à função custo o valor dos parâmetros. Tal adição resulta na eliminação de parâmetros de pouca importância e, portanto, em um modelo mais convexo, do qual que se espera que seja mais representativo da realidade. \n",
    "\n",
    "$$ J(\\theta) = \\left[ \\frac{1}{m} \\sum_{i=1}^{m} \\left[-y^{(i)} \\log\\left(h_\\theta(x^{(i)})\\right) - \\left(1 - y^{(i)}\\right) \\log\\left(1 - h_\\theta(x^{(i)})\\right) \\right] \\right] + \\frac{\\lambda}{2m} \\sum_{j=1}^{n} \\theta_{j}^2. $$\n",
    "\n",
    "O gradiente da função de custo é um vetor no qual o $j-$ésimo elemento é definido como:\n",
    "\n",
    "$$\\frac{\\partial J(\\theta)}{\\partial \\theta_j}= \n",
    "\\begin{cases}\n",
    "    \\displaystyle \\frac{1}{m} \\sum_{i=1}^{m} \\left(h_\\theta(x^{(i)}) - y^{(i)} \\right).x_{j}^{(i)},& \\text{se } j = 0\\\\\n",
    "    \\displaystyle \\left(\\frac{1}{m} \\sum_{i=1}^{m} \\left(h_\\theta(x^{(i)}) - y^{(i)} \\right).x_{j}^{(i)}\\right) + \\frac{\\lambda}{m} \\theta_j,              & \\text{se } j \\geq 0\\\\\n",
    "\\end{cases}\n",
    "$$"
   ]
  },
  {
   "cell_type": "code",
   "execution_count": 214,
   "metadata": {},
   "outputs": [
    {
     "name": "stdout",
     "output_type": "stream",
     "text": [
      "Custo encontrado para theta inicial (zeros):  0.6931471805599437\n",
      "Vetor de Gradiente:  [ 8.47457627e-03  1.87880932e-02  7.77711864e-05  5.03446395e-02\n",
      "  1.15013308e-02  3.76648474e-02  1.83559872e-02  7.32393391e-03\n",
      "  8.19244468e-03  2.34764889e-02  3.93486234e-02  2.23923907e-03\n",
      "  1.28600503e-02  3.09593720e-03  3.93028171e-02  1.99707467e-02\n",
      "  4.32983232e-03  3.38643902e-03  5.83822078e-03  4.47629067e-03\n",
      "  3.10079849e-02  3.10312442e-02  1.09740238e-03  6.31570797e-03\n",
      "  4.08503006e-04  7.26504316e-03  1.37646175e-03  3.87936363e-02\n",
      "  1.99427086e-02  2.74239681e-03  2.32500787e-03  2.21859968e-03\n",
      "  1.37054473e-03  4.59059364e-03  2.44887343e-03  3.45775396e-02\n",
      "  2.58470812e-02  9.24073316e-04  3.56449986e-03  2.36431492e-04\n",
      "  2.73345994e-03  1.41372690e-04  5.06220460e-03  7.44299593e-04\n",
      "  3.91158180e-02  1.94460178e-02  2.03971305e-03  1.67313910e-03\n",
      "  9.57374855e-04  8.28510751e-04  1.45754709e-03  5.55440822e-04\n",
      "  3.80878101e-03  1.42922173e-03  3.74400380e-02  2.27382094e-02\n",
      "  1.00011095e-03  2.22706585e-03  1.51733578e-04  1.25745954e-03\n",
      "  1.48580695e-04  1.57570852e-03  3.59508725e-06  3.99563605e-03\n",
      "  5.22308844e-04  4.06790884e-02  1.90410565e-02  1.75081954e-03\n",
      "  1.23641700e-03  4.69990556e-04  5.27414397e-04  5.55662823e-04\n",
      "  3.40580487e-04  1.05188919e-03  1.97028168e-04  3.35794866e-03\n",
      "  9.67859736e-04  4.06730521e-02  2.10163086e-02  1.15032574e-03\n",
      "  1.49782866e-03  1.02669187e-04  6.64345919e-04  1.09951984e-04\n",
      "  6.18955072e-04  7.43336884e-05  1.07123799e-03 -6.55122093e-05\n",
      "  3.44743950e-03  5.15509782e-04  4.35307118e-02  1.89437400e-02\n",
      "  1.66248899e-03  9.41574445e-04  2.61308468e-04  3.41532634e-04\n",
      "  2.43492082e-04  2.14664106e-04  3.63362793e-04  1.41628227e-04\n",
      "  8.21956083e-04  3.56919486e-05  3.11923871e-03  8.32085947e-04\n",
      "  4.47399893e-02  2.02778726e-02  1.31985563e-03  1.06764143e-03\n",
      "  7.86844535e-05  3.87047105e-04  6.94079048e-05  2.85477158e-04\n",
      "  6.90699995e-05  3.69582263e-04  2.39341381e-05  8.16074446e-04\n",
      " -9.08769094e-05  3.17917837e-03  6.45964381e-04  4.77107504e-02\n",
      "  1.92318272e-02  1.68027441e-03  7.40076535e-04  1.63801867e-04\n",
      "  2.27678507e-04  1.19804339e-04  1.31380821e-04  1.46616000e-04\n",
      "  9.85447536e-05  2.59049209e-04  4.94761874e-05  6.85844461e-04\n",
      " -3.01668071e-05  3.02344543e-03  9.01454727e-04  4.99273765e-02]\n"
     ]
    }
   ],
   "source": [
    "def funcaoCustoRegEGrad(theta, X, Y, lambda_reg):\n",
    "\n",
    "    \"\"\"\n",
    "    Calcula o custo de usar theta como parametro da regressao logistica \n",
    "    para ajustar os dados de X e Y. Computa tambem as derivadas parciais \n",
    "    para o custo com relacao ao parametro theta. \n",
    "    \"\"\"\n",
    "    \n",
    "    m = len(Y) #numero de exemplos de treinamento\n",
    "\n",
    "    J = 0\n",
    "    grad = np.zeros( len(theta) )\n",
    "    \n",
    "    eps = 1e-15\n",
    "    \n",
    "    theta2 = theta[1:]\n",
    "    \n",
    "    J = (1 / m) * np.sum(-Y * np.log(eps+sigmoid(np.dot(X, theta))) - (1 - Y) * np.log(1 - sigmoid(np.dot(X, theta)) + eps))+((lambda_reg/(2*m))*np.sum(theta2*theta2))   \n",
    "    \n",
    "    for t in range(len(theta)):\n",
    "        \n",
    "        if t==0:\n",
    "            \n",
    "            grad[t] = (1/m) * np.dot(X[:,t].T, sigmoid(np.dot(X, theta)) - Y)\n",
    "    \n",
    "        else:\n",
    "            grad[t] = ((1/m) * np.dot(X[:,t].T, sigmoid(np.dot(X, theta)) - Y))+(lambda_reg/m)*theta[t]\n",
    "    \n",
    "    \n",
    "    return J, grad\n",
    "\n",
    "\n",
    "\n",
    "m, n = X_poli.shape\n",
    "\n",
    "theta = np.zeros(n)\n",
    "\n",
    "lambda_reg = 1\n",
    "\n",
    "custo, grad = funcaoCustoRegEGrad(theta, X_poli, Y, lambda_reg)\n",
    "\n",
    "print('Custo encontrado para theta inicial (zeros): ',custo)\n",
    "\n",
    "print('Vetor de Gradiente: ',grad)"
   ]
  },
  {
   "cell_type": "markdown",
   "metadata": {},
   "source": [
    "<span style='font-family:serif'>\n",
    "    \n",
    "## 8. Regularização Fraca (0.00005)\n",
    "\n"
   ]
  },
  {
   "cell_type": "code",
   "execution_count": 215,
   "metadata": {},
   "outputs": [
    {
     "name": "stdout",
     "output_type": "stream",
     "text": [
      "Warning: CG iterations didn't converge.  The Hessian is not positive definite.\n",
      "         Current function value: 0.256254\n",
      "         Iterations: 12\n",
      "         Function evaluations: 14\n",
      "         Gradient evaluations: 6876\n",
      "         Hessian evaluations: 0\n"
     ]
    }
   ],
   "source": [
    "\n",
    "lambda_reg = 0.00005\n",
    "\n",
    "iteracoes = 50\n",
    "theta = np.zeros(n) \n",
    "\n",
    "result = scipy.optimize.minimize(fun=funcaoCustoRegEGrad, x0=theta, args=(X_poli, Y, lambda_reg),  \n",
    "                method='Newton-CG',jac=True, options={'maxiter': iteracoes, 'disp':True})\n",
    "\n",
    "theta0 = result.x\n",
    "\n",
    "custo, grad = funcaoCustoRegEGrad(theta, X_poli, Y, lambda_reg) \n",
    "\n"
   ]
  },
  {
   "cell_type": "code",
   "execution_count": 216,
   "metadata": {},
   "outputs": [
    {
     "data": {
      "image/png": "[encoded data removed]",
      "text/plain": [
       "<Figure size 1152x720 with 1 Axes>"
      ]
     },
     "metadata": {
      "needs_background": "light"
     },
     "output_type": "display_data"
    }
   ],
   "source": [
    "visualizaDados(X,Y)\n",
    "\n",
    "u = np.linspace(-1, 1.5, 50)\n",
    "v = np.linspace(-1, 1.5, 50)\n",
    "\n",
    "z = np.zeros( [len(u), len(v)] )\n",
    "\n",
    "for i in range( len(u) ):\n",
    "    for j in range( len(v) ):\n",
    "        z[i,j] = np.dot( atributosPolinomiais( u[i], v[j] ),theta0);\n",
    "\n",
    "plt.contour(u, v, z, levels=[0], cmap=plt.cm.Paired)\n",
    "\n",
    "\n",
    "plt.show()"
   ]
  },
  {
   "cell_type": "markdown",
   "metadata": {},
   "source": [
    "<span style='font-family:serif'>\n",
    "    \n",
    "## 9. Regularização Forte (5)\n",
    "\n"
   ]
  },
  {
   "cell_type": "code",
   "execution_count": 221,
   "metadata": {},
   "outputs": [
    {
     "name": "stdout",
     "output_type": "stream",
     "text": [
      "Optimization terminated successfully.\n",
      "         Current function value: 0.606138\n",
      "         Iterations: 6\n",
      "         Function evaluations: 7\n",
      "         Gradient evaluations: 46\n",
      "         Hessian evaluations: 0\n"
     ]
    },
    {
     "data": {
      "image/png": "[encoded data removed]",
      "text/plain": [
       "<Figure size 1152x720 with 1 Axes>"
      ]
     },
     "metadata": {
      "needs_background": "light"
     },
     "output_type": "display_data"
    }
   ],
   "source": [
    "lambda_reg = 5\n",
    "\n",
    "iteracoes = 50\n",
    "theta = np.zeros(n) \n",
    "\n",
    "result = scipy.optimize.minimize(fun=funcaoCustoRegEGrad, x0=theta, args=(X_poli, Y, lambda_reg),  \n",
    "                method='Newton-CG',jac=True, options={'maxiter': iteracoes, 'disp':True})\n",
    "\n",
    "theta = result.x\n",
    "\n",
    "custo, grad = funcaoCustoRegEGrad(theta, X_poli, Y, lambda_reg) \n",
    "\n",
    "visualizaDados(X,Y)\n",
    "\n",
    "u = np.linspace(-1, 1.5, 50)\n",
    "v = np.linspace(-1, 1.5, 50)\n",
    "\n",
    "z = np.zeros( [len(u), len(v)] )\n",
    "\n",
    "for i in range( len(u) ):\n",
    "    for j in range( len(v) ):\n",
    "        z[i,j] = np.dot( atributosPolinomiais( u[i], v[j] ),theta);\n",
    "\n",
    "plt.contour(u, v, z, levels=[0], cmap=plt.cm.Paired)\n",
    "\n",
    "\n",
    "plt.show()"
   ]
  }
 ],
 "metadata": {
  "kernelspec": {
   "display_name": "Python 3",
   "language": "python",
   "name": "python3"
  },
  "language_info": {
   "codemirror_mode": {
    "name": "ipython",
    "version": 3
   },
   "file_extension": ".py",
   "mimetype": "text/x-python",
   "name": "python",
   "nbconvert_exporter": "python",
   "pygments_lexer": "ipython3",
   "version": "3.7.6"
  }
 },
 "nbformat": 4,
 "nbformat_minor": 4
}
