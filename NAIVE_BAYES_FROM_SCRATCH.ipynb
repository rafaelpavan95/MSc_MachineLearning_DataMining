{
 "cells": [
  {
   "cell_type": "markdown",
   "metadata": {},
   "source": [
    "<span style='font-family:serif'>\n",
    "    \n",
    "# <center>$Machine   Learning   From   Scratch$</center>\n",
    "# <center><span style='background:yellow'>Naive Bayes</span></center>\n",
    "<center>$Rafael Pavan$</center>\n",
    "\n"
   ]
  },
  {
   "cell_type": "markdown",
   "metadata": {},
   "source": [
    "<span style='font-family:serif'>\n",
    "    \n",
    "## 1. Introdução\n",
    "\n",
    "Este notebook irá realizar a formulação matemática do algoritmo Naive Bayes. O Naive-Bayes é um método de aprendizado supervisionado baseado com funcionamento baseado em probabilidade. O algoritmo utiliza o Teorema de Bayes supondo independência total entre os atributos de uma amostra, por isso é denominado ingênuo (Naive). O método se destaca em aplicações de Processamento de Linguagem Natural (PLN).\n",
    "    \n",
    "Dados:\n",
    " \n",
    "Rodonildo é um jogador nato de *League of Legends*, um jogo de estratégia que envolve a batalha entre dois times, e esteve coletando dados nas partidas em que jogou. O objetivo de Rodonildo é prever o vencedor de uma determinada batalha a partir de algumas informações. Na coleta de dados que Rodonildo fez, ele utilizou amostras compostas pelos 5 atributos binários (*1 = sim* e *0 = não*) a seguir:\n",
    "    \n",
    "\n",
    "1. *primeiroAbate*: indica se a primeira morte do jogo foi realizada pelo time de Rodonildo;\n",
    "2. *primeiraTorre*: indica se a primeira torre destruída do jogo foi derrubada pelo time de Rodonildo (Figura 1a);\n",
    "3. *primeiroInibidor*: indica se o primeiro inibidor destruído do jogo foi derrubado pelo time de Rodonildo (Figura 1b);\n",
    "4. *primeiroDragao*: indica se o personagem Dragão foi abatido primeiro pelo time de Rodonildo (Figura 1c);\n",
    "4. *primeiroBaron*: indica se o personagem Baron foi abatido primeiro pelo time de Rodonildo (Figura 1d).\n",
    "\n",
    "    \n",
    "Todos os atributos deste problema de classificação possuem apenas dois valores possíveis (1 \\[a ação representada pelo atributo foi tomada pelo time do Rodonildo\\] ou 0 [a ação representada pelo atributo foi tomada pelo time adversário]). Portanto, na função abaixo você deverá calcular apenas a probabilidade do atributo possuir valor 1. Posteriormente, na função de classificação, basta considerar que a probabilidade de um determinado atributo possuir valor 0 é complementar à probabilidade do atributo possui valor 1. "
   ]
  },
  {
   "cell_type": "code",
   "execution_count": 1,
   "metadata": {},
   "outputs": [],
   "source": [
    "import numpy as np \n",
    "import pandas as pd\n",
    "import matplotlib.pyplot as plt\n",
    "from matplotlib import rcParams\n",
    "rcParams['font.family'] = 'sans-serif'\n",
    "plt.style.use('fivethirtyeight')"
   ]
  },
  {
   "cell_type": "markdown",
   "metadata": {},
   "source": [
    "<span style='font-family:serif'>\n",
    "    \n",
    "## 2. Criando e Pré-Visualizando os Dados\n"
   ]
  },
  {
   "cell_type": "code",
   "execution_count": 2,
   "metadata": {
    "nbpresent": {
     "id": "b274d631-4f72-4234-89ec-444cfe36a1ac"
    }
   },
   "outputs": [
    {
     "data": {
      "text/html": [
       "<div>\n",
       "<style scoped>\n",
       "    .dataframe tbody tr th:only-of-type {\n",
       "        vertical-align: middle;\n",
       "    }\n",
       "\n",
       "    .dataframe tbody tr th {\n",
       "        vertical-align: top;\n",
       "    }\n",
       "\n",
       "    .dataframe thead th {\n",
       "        text-align: right;\n",
       "    }\n",
       "</style>\n",
       "<table border=\"1\" class=\"dataframe\">\n",
       "  <thead>\n",
       "    <tr style=\"text-align: right;\">\n",
       "      <th></th>\n",
       "      <th>primAbate</th>\n",
       "      <th>primTorre</th>\n",
       "      <th>primInibidor</th>\n",
       "      <th>primDragao</th>\n",
       "      <th>primBaron</th>\n",
       "      <th>Classe</th>\n",
       "    </tr>\n",
       "  </thead>\n",
       "  <tbody>\n",
       "    <tr>\n",
       "      <th>0</th>\n",
       "      <td>0</td>\n",
       "      <td>0</td>\n",
       "      <td>1</td>\n",
       "      <td>1</td>\n",
       "      <td>0</td>\n",
       "      <td>0</td>\n",
       "    </tr>\n",
       "    <tr>\n",
       "      <th>1</th>\n",
       "      <td>0</td>\n",
       "      <td>1</td>\n",
       "      <td>1</td>\n",
       "      <td>0</td>\n",
       "      <td>1</td>\n",
       "      <td>1</td>\n",
       "    </tr>\n",
       "    <tr>\n",
       "      <th>2</th>\n",
       "      <td>1</td>\n",
       "      <td>1</td>\n",
       "      <td>1</td>\n",
       "      <td>0</td>\n",
       "      <td>0</td>\n",
       "      <td>1</td>\n",
       "    </tr>\n",
       "    <tr>\n",
       "      <th>3</th>\n",
       "      <td>0</td>\n",
       "      <td>0</td>\n",
       "      <td>0</td>\n",
       "      <td>0</td>\n",
       "      <td>0</td>\n",
       "      <td>0</td>\n",
       "    </tr>\n",
       "    <tr>\n",
       "      <th>4</th>\n",
       "      <td>1</td>\n",
       "      <td>1</td>\n",
       "      <td>1</td>\n",
       "      <td>0</td>\n",
       "      <td>1</td>\n",
       "      <td>1</td>\n",
       "    </tr>\n",
       "  </tbody>\n",
       "</table>\n",
       "</div>"
      ],
      "text/plain": [
       "   primAbate  primTorre  primInibidor  primDragao  primBaron  Classe\n",
       "0          0          0             1           1          0       0\n",
       "1          0          1             1           0          1       1\n",
       "2          1          1             1           0          0       1\n",
       "3          0          0             0           0          0       0\n",
       "4          1          1             1           0          1       1"
      ]
     },
     "execution_count": 2,
     "metadata": {},
     "output_type": "execute_result"
    }
   ],
   "source": [
    "df_dataset = pd.read_csv('dados.csv', sep=',', index_col=None)\n",
    "\n",
    "df_dataset.head()"
   ]
  },
  {
   "cell_type": "code",
   "execution_count": 3,
   "metadata": {
    "nbpresent": {
     "id": "e6fc786d-681a-4f29-9932-e46534412e22"
    }
   },
   "outputs": [],
   "source": [
    "X = df_dataset.iloc[:, 0:-1].values \n",
    "Y = df_dataset.iloc[:, -1].values "
   ]
  },
  {
   "cell_type": "code",
   "execution_count": 4,
   "metadata": {
    "nbpresent": {
     "id": "66b4b9cc-ebb3-4d13-af8a-63d12cb23725"
    }
   },
   "outputs": [
    {
     "name": "stdout",
     "output_type": "stream",
     "text": [
      "X: [[0 0 1 1 0]\n",
      " [0 1 1 0 1]\n",
      " [1 1 1 0 0]\n",
      " [0 0 0 0 0]\n",
      " [1 1 1 0 1]]\n",
      "Y: [0 1 1 0 1]\n"
     ]
    }
   ],
   "source": [
    "print('X:', X[0:5,:])\n",
    "\n",
    "print('Y:', Y[0:5])"
   ]
  },
  {
   "cell_type": "markdown",
   "metadata": {},
   "source": [
    "<span style='font-family:serif'>\n",
    "    \n",
    "## 2. Probabilidade de Ocorrência\n",
    " \n",
    "\n"
   ]
  },
  {
   "cell_type": "code",
   "execution_count": 5,
   "metadata": {
    "nbpresent": {
     "id": "d8183ff0-4a56-4209-bd1e-04379658d23b"
    }
   },
   "outputs": [
    {
     "name": "stdout",
     "output_type": "stream",
     "text": [
      "Probabilidade da classe ser 1 : 54.00%\n",
      "Probabilidade da classe ser 0 : 46.00%\n"
     ]
    }
   ],
   "source": [
    "pVitoria = sum(Y==1)/len(Y) \n",
    "pDerrota = sum(Y==0)/len(Y)\n",
    "\n",
    "print('Probabilidade da classe ser 1 : %1.2f%%' %(pVitoria*100))\n",
    "print('Probabilidade da classe ser 0 : %1.2f%%' %(pDerrota*100))"
   ]
  },
  {
   "cell_type": "code",
   "execution_count": 6,
   "metadata": {
    "nbpresent": {
     "id": "521de916-1c6f-48d5-9109-d13519ca5e81"
    },
    "scrolled": true
   },
   "outputs": [
    {
     "name": "stdout",
     "output_type": "stream",
     "text": [
      "A probabilidade esperada para P(PrimeiroAbate=1|Classe=1) = 52.96%\n",
      "\n",
      "Essa mesma probabilidade calculada no seu codigo foi = 52.96%\n"
     ]
    }
   ],
   "source": [
    "def calcula_Probabilidades(X, Y):\n",
    "    \n",
    "    \"\"\"\n",
    "    \n",
    "    Calcula a probabilidade de ocorrência de cada atributo por classe possível.\n",
    "    A funcao retorna dois vetores de tamanho n (número de atributos), um para cada classe.\n",
    "    \n",
    "    \"\"\"\n",
    "    \n",
    "    pbVitoria = np.zeros(X.shape[1])\n",
    "    pbDerrota = np.zeros(X.shape[1])\n",
    "    \n",
    "    for atributo in range(X.shape[1]):\n",
    "        \n",
    "        filtrov = X[:,atributo] == 1\n",
    "\n",
    "        Yv = Y[filtrov]\n",
    "\n",
    "        pbVitoria[atributo] = ((len(Yv[Yv==1]))/len(Yv)*(len(X[X[:,atributo]==1])/len(X[:,atributo])))/(len(Y[Y==1])/len(Y))\n",
    "        pbDerrota[atributo] = ((len(Yv[Yv==0]))/len(Yv)*(len(X[X[:,atributo]==1])/len(X[:,atributo])))/(len(Y[Y==0])/len(Y))\n",
    "\n",
    "    return pbVitoria, pbDerrota\n",
    "\n",
    "pbVitoria, pbDerrota = calcula_Probabilidades(X,Y)\n",
    "\n",
    "print('A probabilidade esperada para P(PrimeiroAbate=1|Classe=1) = %.2f%%' %52.96)\n",
    "print('\\nEssa mesma probabilidade calculada no seu codigo foi = %.2f%%' %(pbVitoria[0]*100))"
   ]
  },
  {
   "cell_type": "markdown",
   "metadata": {},
   "source": [
    "<span style='font-family:serif'>\n",
    "    \n",
    "## Classificação da Base Pelo Naive Bayes\n",
    "\n",
    "Nesta etapa, é realizada a classificação das amostras com base nas probabilidades encontradas no passo anterior. A classificação é realizada verificando se a amostra em questão tem maior probabilidade de pertencer à classe 1 ou à classe 0. Para calcular a probabilidade de uma amostra pertencer a uma determinada classe, é necessário utilizar as probabilidades de ocorrências de atributos previamente computadas. O cálculo pode ser expresso como:\n",
    "\n",
    "$$ P(y_j|\\vec{x}) = \\hat{P}(y_{j}) \\prod_{x_i \\in \\vec{x}} \\hat{P}(x_{i} | y_{j}) $$\n",
    "\n",
    "Portanto, a probabilidade de uma amostra $\\vec{x}$ pertencer a uma classe $j$ é obtida a partir da probabilidade geral da classe $j$ ($\\hat{P}(y_{j})$) multiplicada pelo produtório da probabilidade de ocorrência de cada atributo $x_i$ com relação a classe $j$ ($\\hat{P}(x_{i} | y_{j})$).\n",
    "\n",
    "Se a rotina de classificação estiver correta, espera-se que a acurácia obtida ao classificar a própria base de amostras de jogos que Ronildo participou seja aproximadamente 76,60%. \n"
   ]
  },
  {
   "cell_type": "code",
   "execution_count": 7,
   "metadata": {},
   "outputs": [
    {
     "name": "stdout",
     "output_type": "stream",
     "text": [
      "\n",
      "\n",
      "Acuracia esperada para essa base = 76.60%\n",
      "\n",
      "Acuracia obtida pelo seu classificador foi = 76.60%\n",
      "\n"
     ]
    }
   ],
   "source": [
    "def classificacao(x,pVitoria,pDerrota,pAtrVitoria,pAtrDerrota):\n",
    "    \n",
    "    \"\"\"\n",
    "    \n",
    "    Classifica se a entrada x pertence a classe 0 ou 1 usando as probabilidades extraidas da base de treinamento. \n",
    "    Essa função estima a predição de x através da maior probabilidade da amostra pertencer a classe 1 ou 0. \n",
    "    Também retorna as probabilidades condicionais de vitoria e derrota, respectivamente.\n",
    "    \n",
    "    \"\"\"\n",
    "    \n",
    "    classe = 0\n",
    "    probVitoria= 0\n",
    "    probDerrota = 0\n",
    "\n",
    "    probVitoria = pVitoria\n",
    "    probDerrota = pDerrota\n",
    "    \n",
    "    for j in range(x.shape[0]):\n",
    "        \n",
    "        if x[j]== 1: \n",
    "            probVitoria=probVitoria*pAtrVitoria[j]\n",
    "            probDerrota=probDerrota*(pAtrDerrota[j])\n",
    "        \n",
    "        else: \n",
    "            probVitoria=probVitoria*(1-pAtrVitoria[j])\n",
    "            probDerrota=probDerrota*(1-pAtrDerrota[j])\n",
    "    \n",
    "    if probVitoria > probDerrota:\n",
    "        classe = 1\n",
    "    else:\n",
    "        classe = 0\n",
    "    \n",
    "    return classe, probVitoria, probDerrota \n",
    "\n",
    "resultados = np.zeros(X.shape[0])\n",
    "\n",
    "for i in range(X.shape[0]):\n",
    "    resultados[i], probVitoria, probDerrota = classificacao( X[i,:],pVitoria,pDerrota,pbVitoria,pbDerrota )\n",
    "\n",
    "acuracia = np.sum(resultados==Y)/len(Y)\n",
    "\n",
    "print('\\n\\nAcuracia esperada para essa base = %.2f%%\\n' %76.60);\n",
    "print('Acuracia obtida pelo seu classificador foi = %.2f%%\\n' %( acuracia*100 ) )"
   ]
  },
  {
   "cell_type": "markdown",
   "metadata": {},
   "source": [
    "<span style='font-family:serif'>\n",
    "    \n",
    "## 3. Predição de um Novo Dado"
   ]
  },
  {
   "cell_type": "code",
   "execution_count": 8,
   "metadata": {
    "nbpresent": {
     "id": "ba149ed3-978b-47a5-9d8b-1e7f9cc14efa"
    }
   },
   "outputs": [
    {
     "name": "stdout",
     "output_type": "stream",
     "text": [
      "\n",
      ">>> Predicao = Vitoria!\n",
      "\n",
      ">>>>>> Prob. vitoria = 0.016448!\n",
      "\n",
      ">>>>>> Prob. derrota = 0.015878!\n",
      "\n",
      "\n"
     ]
    }
   ],
   "source": [
    "x1_novo = np.array([0,0,0,1,1])\n",
    "\n",
    "classe, probVitoria, probDerrota = classificacao( x1_novo,pVitoria,pDerrota,pbVitoria,pbDerrota )\n",
    "\n",
    "if classe ==1:\n",
    "    print('\\n>>> Predicao = Vitoria!')       \n",
    "else:\n",
    "    print('\\n>>> Predicao = Derrota!')\n",
    "\n",
    "print('\\n>>>>>> Prob. vitoria = %0.6f!' %(probVitoria))\n",
    "print('\\n>>>>>> Prob. derrota = %0.6f!\\n\\n'  %(probDerrota))"
   ]
  },
  {
   "cell_type": "markdown",
   "metadata": {},
   "source": [
    "<span style='font-family:serif'>\n",
    "    \n",
    "## 4. Classificação de SPAM\n",
    "    \n",
    "Nesta parte do exercício, usaremos o Naive Bayes para classificar SMS spam.\n",
    "\n",
    "Veja alguns exemplos de SMS legítimos:\n",
    " * ```Is that seriously how you spell his name?```\n",
    " * ```What you thinked about me. First time you saw me in class.```\n",
    " * ```Ok lar i double check wif da hair dresser already he said wun cut v short. He said will cut until i look nice.```\n",
    " \n",
    "Agora veja alguns exemplos de SMS spam:\n",
    " * ```WINNER!! As a valued network customer you have been selected to receivea £900 prize reward! To claim call 09061701461. Claim code KL341. Valid 12 hours only.```\n",
    " * ```Thanks for your subscription to Ringtone UK your mobile will be charged £5/month Please confirm by replying YES or NO. If you reply NO you will not be charged.```\n",
    " * ```Congratulations ur awarded 500 of CD vouchers or 125gift guaranteed & Free entry 2 100 wkly draw txt MUSIC to 87066 TnCs http://www.Ldew.com1win150ppmx3age16.```\n",
    "    \n",
    "    \n",
    "Antes de fazer qualquer tarefa de classificação com textos, é importante fazer um pré-processamento para obter melhor resultado na predição. Na função abaixo, os seguintes pré-processamentos são realizados:\n",
    "\n",
    " - deixar todas as palavras com letras minúsculas\n",
    " - substituir os números pela palavra *number*\n",
    " - substituir todas as URLS pela palavra *enderecoweb*\n",
    " - substiuir todos os emails pela palavra *enderecoemail*\n",
    " - substituir o símbolo de dólar pela palavra *dolar*\n",
    " - substituit todos os caracteres não-alfanuméricos por um espaço em branco\n",
    " \n",
    "Por fim, também é recomendado eliminar todas as palavras muito curtas. Vamos eliminar qualquer palavra de apenas 1 caracter. "
   ]
  },
  {
   "cell_type": "code",
   "execution_count": 9,
   "metadata": {},
   "outputs": [
    {
     "name": "stdout",
     "output_type": "stream",
     "text": [
      "Antes do preprocessamento: \n",
      "\n",
      " Congratulations ur awarded 500 of CD vouchers or 125gift guaranteed & Free entry 2 100 wkly draw txt MUSIC to 87066 TnCs http://www.Ldew.com1win150ppmx3age16.\n",
      "\n",
      "Depois do preprocessamento: \n",
      "\n",
      " congratulations ur awarded number of cd vouchers or numbergift guaranteed free entry number number wkly draw txt music to number tncs enderecoweb\n"
     ]
    }
   ],
   "source": [
    "import re #regular expression\n",
    "\n",
    "def preprocessing(text):\n",
    "    \n",
    "    # Lower case\n",
    "    text = text.lower()\n",
    "    \n",
    "    # remove tags HTML\n",
    "    regex = re.compile('<[^<>]+>')\n",
    "    text = re.sub(regex, \" \", text) \n",
    "\n",
    "    # normaliza os numeros \n",
    "    regex = re.compile('[0-9]+')\n",
    "    text = re.sub(regex, \"number\", text)\n",
    "    \n",
    "    # normaliza as URLs\n",
    "    regex = re.compile('(http|https)://[^\\s]*')\n",
    "    text = re.sub(regex, \"enderecoweb\", text)\n",
    "\n",
    "    # normaliza emails\n",
    "    regex = re.compile('[^\\s]+@[^\\s]+')\n",
    "    text = re.sub(regex, \"enderecoemail\", text)\n",
    "    \n",
    "    #normaliza o símbolo de dólar\n",
    "    regex = re.compile('[$]+')\n",
    "    text = re.sub(regex, \"dolar\", text)\n",
    "    \n",
    "    # converte todos os caracteres não-alfanuméricos em espaço\n",
    "    regex = re.compile('[^A-Za-z]') \n",
    "    text = re.sub(regex, \" \", text)\n",
    "    \n",
    "    # substitui varios espaçamentos seguidos em um só\n",
    "    text = ' '.join(text.split())\n",
    "        \n",
    "    return text\n",
    "\n",
    "smsContent = 'Congratulations ur awarded 500 of CD vouchers or 125gift guaranteed & Free entry 2 100 wkly draw txt MUSIC to 87066 TnCs http://www.Ldew.com1win150ppmx3age16.'\n",
    "print('Antes do preprocessamento: \\n\\n', smsContent)\n",
    "\n",
    "# chama a função de pré-processsamento para tratar o SMS\n",
    "smsContent = preprocessing(smsContent)\n",
    "\n",
    "print('\\nDepois do preprocessamento: \\n\\n', smsContent)"
   ]
  },
  {
   "cell_type": "markdown",
   "metadata": {},
   "source": [
    "<span style='font-family:serif'>\n",
    "    \n",
    "\n",
    "Depois de fazer o pré-processamento, é necessário transformar o texto em um vetor de atributos com valores numéricos. Uma das formas de fazer isso é considerar que cada palavra da base de dados de treinamento é um atributo, cujo valor é o número de vezes que ela aparece em uma determinada mensagem.\n",
    "\n",
    "Para facilitar, já existe um vocabulário no arquivo *vocab* que foi previamente extraído. Cada palavra desse vocabulário será considerado um atributo do problema de classificação de spam.\n",
    "\n",
    "O código abaixo carrega o vocabulário."
   ]
  },
  {
   "cell_type": "code",
   "execution_count": 10,
   "metadata": {},
   "outputs": [
    {
     "name": "stdout",
     "output_type": "stream",
     "text": [
      "50 primeiras palavras do vocabulário:\n",
      "\n",
      "['aah', 'aathi', 'abi', 'ability', 'abiola', 'able', 'about', 'abt', 'abta', 'ac', 'academic', 'acc', 'accept', 'access', 'accident', 'accidentally', 'accordingly', 'account', 'ache', 'across', 'acting', 'action', 'activate', 'activities', 'actor', 'actual', 'actually', 'ad', 'add', 'addamsfa', 'added', 'address', 'administrator', 'admirer', 'admit', 'adore', 'adult', 'advance', 'advice', 'advise', 'affairs', 'affection', 'afraid', 'aft', 'after', 'afternoon', 'aftr', 'ag', 'again', 'against']\n"
     ]
    }
   ],
   "source": [
    "vocabulario = []\n",
    "\n",
    "with open('vocab.txt', 'r') as f:\n",
    "    for line in f:\n",
    "        line = line.replace('\\n','')\n",
    "        \n",
    "        vocabulario.append(line)\n",
    "\n",
    "print('50 primeiras palavras do vocabulário:\\n')\n",
    "print(vocabulario[0:50])"
   ]
  },
  {
   "cell_type": "code",
   "execution_count": 11,
   "metadata": {},
   "outputs": [
    {
     "name": "stdout",
     "output_type": "stream",
     "text": [
      "Vetor de features correspondente ao SMS:\n",
      "[[0 0 0 ... 0 0 0]]\n"
     ]
    }
   ],
   "source": [
    "def text2features(text, vocabulario):\n",
    "   \n",
    "    \"\"\"\n",
    "    Converte um texto para um vetor de atributos\n",
    "    \"\"\"\n",
    "    \n",
    "    textVec = np.zeros( [1,len(vocabulario)], dtype=int )\n",
    "    \n",
    "    tokens = text.split() # separa as palavras com base nos espaços em branco\n",
    "    \n",
    "    tokens = [w for w in tokens if len(w)>1]\n",
    "\n",
    "    for w in range(len(vocabulario)):\n",
    "    \n",
    "        textVec[0,w] =text.count(vocabulario[w])\n",
    "    \n",
    "    return textVec\n",
    "\n",
    "smsVec = text2features(smsContent, vocabulario)\n",
    "\n",
    "print('Vetor de features correspondente ao SMS:')\n",
    "print(smsVec[0:50])"
   ]
  },
  {
   "cell_type": "code",
   "execution_count": 12,
   "metadata": {},
   "outputs": [
    {
     "data": {
      "text/plain": [
       "'X_train:'"
      ]
     },
     "metadata": {},
     "output_type": "display_data"
    },
    {
     "data": {
      "text/plain": [
       "array([[0, 0, 0, ..., 0, 0, 0],\n",
       "       [0, 0, 0, ..., 0, 0, 0],\n",
       "       [0, 0, 0, ..., 0, 0, 0],\n",
       "       [0, 0, 0, ..., 0, 0, 0],\n",
       "       [0, 0, 0, ..., 0, 0, 0]])"
      ]
     },
     "metadata": {},
     "output_type": "display_data"
    },
    {
     "data": {
      "text/plain": [
       "'X_test:'"
      ]
     },
     "metadata": {},
     "output_type": "display_data"
    },
    {
     "data": {
      "text/plain": [
       "array([[0, 0, 0, ..., 0, 0, 0],\n",
       "       [0, 0, 0, ..., 0, 0, 0],\n",
       "       [0, 0, 0, ..., 0, 0, 0],\n",
       "       [0, 0, 0, ..., 0, 0, 0],\n",
       "       [0, 0, 0, ..., 0, 0, 0]])"
      ]
     },
     "metadata": {},
     "output_type": "display_data"
    },
    {
     "name": "stdout",
     "output_type": "stream",
     "text": [
      "Y_train: [0 0 1 1 0]\n",
      "Y_test: [1 0 0 0 0]\n"
     ]
    }
   ],
   "source": [
    "# Importa o arquivo numpy\n",
    "\n",
    "dataset4_train = np.load('spamData.npz')['train']\n",
    "dataset4_test = np.load('spamData.npz')['test']\n",
    "\n",
    "# pega os valores das n-1 primeiras colunas e guarda em uma matrix X\n",
    "\n",
    "X4_train = dataset4_train[:, 0:-1]\n",
    "X4_test = dataset4_test[:, 0:-1]\n",
    "\n",
    "# pega os valores da última coluna e guarda em um vetor Y\n",
    "\n",
    "Y4_train = dataset4_train[:, -1] \n",
    "Y4_test = dataset4_test[:, -1] \n",
    "\n",
    "display('X_train:', X4_train[0:5,:])\n",
    "display('X_test:', X4_test[0:5,:])\n",
    "\n",
    "\n",
    "print('Y_train:', Y4_train[0:5])\n",
    "print('Y_test:', Y4_test[0:5])"
   ]
  },
  {
   "cell_type": "code",
   "execution_count": 13,
   "metadata": {},
   "outputs": [
    {
     "name": "stdout",
     "output_type": "stream",
     "text": [
      "Probabilidade da classe ser 1 (spam): 13.41%\n",
      "Probabilidade da classe ser 0 (ham): 86.59%\n"
     ]
    }
   ],
   "source": [
    "# Probabilidade das Classes\n",
    "\n",
    "pSpam = sum(Y4_train==1)/len(Y4_train) \n",
    "pHam = sum(Y4_train==0)/len(Y4_train)\n",
    "\n",
    "print('Probabilidade da classe ser 1 (spam): %1.2f%%' %(pSpam*100))\n",
    "print('Probabilidade da classe ser 0 (ham): %1.2f%%' %(pHam*100))"
   ]
  },
  {
   "cell_type": "markdown",
   "metadata": {},
   "source": [
    "Para calcular as probabilidades de ocorrência de cada atributo em cada classe irá ser usada a fórmula com correção de Laplace no cálculo da probabilidade.\n",
    "\n",
    "$$\\hat{P}(w_i|c)=\\frac{count(w_i|c)+1}{count(c)+|V|},$$\n",
    "\n",
    "onde $w_i$ é um termo do vocabulário, $count(c)$ é quantidade de termos nas amostras da classe $c$ e $|V|$ é o tamanho do vocabulário (número de atributos)."
   ]
  },
  {
   "cell_type": "code",
   "execution_count": 14,
   "metadata": {},
   "outputs": [
    {
     "name": "stdout",
     "output_type": "stream",
     "text": [
      "\n",
      "A probabilidade calculada no código foi = 0.00027086\n"
     ]
    }
   ],
   "source": [
    "def calcularProbabilidades_Laplace(X, Y):\n",
    "    \n",
    "    \"\"\"\n",
    "    \n",
    "    CALCULARPROBABILIDADES Computa a probabilidade de ocorrencia de cada \n",
    "    atributo por rotulo possivel. A funcao retorna dois vetores de tamanho n\n",
    "    (qtde de atributos), um para cada classe.\n",
    "    \n",
    "    CALCULARPROBABILIDADES(X, Y) calcula a probabilidade de ocorrencia de cada atributo em cada classe. \n",
    "    Cada vetor de saida tem dimensao (n x 1), sendo n a quantidade de atributos por amostra.\n",
    "    \n",
    "    \"\"\"\n",
    "    \n",
    "    pAtrSpam = np.zeros(X.shape[1])\n",
    "    pAtrHam = np.zeros(X.shape[1])\n",
    "\n",
    "    filtrov1 = Y == 1\n",
    "    Xv1 = X[filtrov1]  \n",
    "    filtrod1 = Y == 0\n",
    "    Xd1 = X[filtrod1]  \n",
    "    \n",
    "    for atribut in range(X.shape[1]):\n",
    "        pAtrSpam[atribut] = (np.sum(Xv1[:,atribut],axis=0)+1)/(len(Y[Y==1]) + X.shape[1])\n",
    "        \n",
    "        pAtrHam[atribut] = (np.sum(Xd1[:,atribut],axis=0)+1)/(len(Y[Y==0]) + X.shape[1])\n",
    "    \n",
    "\n",
    "\n",
    "    return pAtrSpam, pAtrHam\n",
    "\n",
    "pAtrSpam, pAtrHam = calcularProbabilidades_Laplace(X4_train,Y4_train)\n",
    "\n",
    "print('\\nA probabilidade calculada no código foi = %.8f' %(pAtrSpam[0]))"
   ]
  },
  {
   "cell_type": "markdown",
   "metadata": {},
   "source": [
    "<span style='font-family:serif'>\n",
    "    \n",
    "Agora, vamos realizar a classificação das amostras com base nas probabilidades encontradas no passo anterior. A classificação é realizada verificando se a amostra em questão tem maior probabilidade de pertencer à classe 1 ou à classe 0. Conforme vimos no exercício anterior, para calcular a probabilidade de uma amostra pertencer a uma determinada classe, é necessário utilizar as probabilidades de ocorrências de atributos previamente computadas:\n",
    "\n",
    "$$ P(y_j|\\vec{x}) = \\hat{P}(y_{j}) \\prod_{x_i \\in \\vec{x}} \\hat{P}(x_{i} | y_{j}) $$\n",
    "\n",
    "Em classificação de textos, a probabilidade de ocorrência de cada termo geralmente é muito próxima de 0. Quando você multiplica essas probabilidades, o resultado final se aproxima ainda mais de 0, o que pode causar estouro de precisão numérica.\n",
    "\n",
    "Um truque para evitar esse problema é substituir a equação acima por:\n",
    "\n",
    "$$ P(y_j|\\vec{x}) = \\log\\left(\\hat{P}(y_{j})\\right) + \\sum_{x_i \\in \\vec{x}} \\log\\left(\\hat{P}(x_{i} | y_{j})\\right) $$\n"
   ]
  },
  {
   "cell_type": "code",
   "execution_count": 15,
   "metadata": {},
   "outputs": [
    {
     "name": "stdout",
     "output_type": "stream",
     "text": [
      "Acuracia obtida pelo classificador foi = 97.97%\n",
      "\n"
     ]
    }
   ],
   "source": [
    "def classificacao_texto(x,pSpam,pHam,pAtrSpam,pAtrHam):\n",
    "    \"\"\"\n",
    "    Classifica se a entrada x pertence a classe 0 ou 1 usando\n",
    "    as probabilidades extraidas da base de treinamento. Essa funcao \n",
    "    estima a predicao de x atraves da maior probabilidade da amostra  \n",
    "    pertencer a classe 1 ou 0. Tambem retorna as probabilidades condicionais\n",
    "    de vitoria e derrota, respectivamente.\n",
    "    \n",
    "    \"\"\"\n",
    "\n",
    "    classe = 0;\n",
    "    probSpam = 0;\n",
    "    probHam = 0;\n",
    "\n",
    "    pAtrSpam = np.log(pAtrSpam)\n",
    "    pAtrHam = np.log(pAtrHam)\n",
    "    \n",
    "    probSpam = np.log(pSpam) + probSpam+np.sum(pAtrSpam[np.where(x!=0)])\n",
    "    probHam = np.log(pHam) + probHam+np.sum(pAtrHam[np.where(x!=0)])\n",
    "    \n",
    "    if probSpam  > probHam :\n",
    "        classe=1\n",
    "    else:\n",
    "        classe=0\n",
    "\n",
    "\n",
    "    return classe, probSpam, probHam   \n",
    "    \n",
    "\n",
    "resultados = np.zeros( X4_test.shape[0] )\n",
    "for i in range(X4_test.shape[0]):\n",
    "    resultados[i], probSpam, probHam = classificacao_texto( X4_test[i,:],pSpam,pHam,pAtrSpam,pAtrHam )\n",
    "\n",
    "# calcular acuracia\n",
    "acuracia = np.sum(resultados==Y4_test)/len(Y4_test)\n",
    "\n",
    "print('Acuracia obtida pelo classificador foi = %.2f%%\\n' %( acuracia*100 ) )"
   ]
  },
  {
   "cell_type": "code",
   "execution_count": 16,
   "metadata": {},
   "outputs": [
    {
     "name": "stdout",
     "output_type": "stream",
     "text": [
      "Congratulations ur awarded 500 of CD vouchers or 125gift guaranteed & Free entry 2 100 wkly draw txt MUSIC to 87066 TnCs http://www.Ldew.com1win150ppmx3age16.\n",
      "\n",
      ">>> Predicao = Spam!\n"
     ]
    }
   ],
   "source": [
    "smsContent = 'Congratulations ur awarded 500 of CD vouchers or 125gift guaranteed & Free entry 2 100 wkly draw txt MUSIC to 87066 TnCs http://www.Ldew.com1win150ppmx3age16.'\n",
    "\n",
    "smsContent2 = 'Hello, how are you doing? The results of you application are available already! You can see your score in the link: http://www.linkscore.com.br'\n",
    "\n",
    "print(smsContent) \n",
    "\n",
    "# chama a função de pré-processsamento para tratar o email\n",
    "smsContent = preprocessing(smsContent)\n",
    "smsContent2 = preprocessing(smsContent2)\n",
    "\n",
    "# converte o texto para um vetor de features\n",
    "smsVec = text2features(smsContent, vocabulario)\n",
    "smsVec2 = text2features(smsContent2, vocabulario)\n",
    "\n",
    "# classifica o email\n",
    "classe, probSpam, probHam = classificacao_texto( smsVec[0,:],pSpam,pHam,pAtrSpam,pAtrHam )\n",
    "\n",
    "if classe==1:\n",
    "    print('\\n>>> Predicao = Spam!')       \n",
    "else:\n",
    "    print('\\n>>> Predicao = Ham!')\n"
   ]
  },
  {
   "cell_type": "code",
   "execution_count": 17,
   "metadata": {},
   "outputs": [
    {
     "name": "stdout",
     "output_type": "stream",
     "text": [
      "hello how are you doing the results of you application are available already you can see your score in the link enderecoweb\n",
      "\n",
      ">>> Predicao = Ham!\n"
     ]
    }
   ],
   "source": [
    "# classifica o email\n",
    "classe, probSpam, probHam = classificacao_texto( smsVec2[0,:],pSpam,pHam,pAtrSpam,pAtrHam )\n",
    "\n",
    "\n",
    "print(smsContent2) \n",
    "\n",
    "\n",
    "if classe==1:\n",
    "    print('\\n>>> Predicao = Spam!')       \n",
    "else:\n",
    "    print('\\n>>> Predicao = Ham!')\n"
   ]
  }
 ],
 "metadata": {
  "kernelspec": {
   "display_name": "Python 3",
   "language": "python",
   "name": "python3"
  },
  "language_info": {
   "codemirror_mode": {
    "name": "ipython",
    "version": 3
   },
   "file_extension": ".py",
   "mimetype": "text/x-python",
   "name": "python",
   "nbconvert_exporter": "python",
   "pygments_lexer": "ipython3",
   "version": "3.7.6"
  }
 },
 "nbformat": 4,
 "nbformat_minor": 4
}
