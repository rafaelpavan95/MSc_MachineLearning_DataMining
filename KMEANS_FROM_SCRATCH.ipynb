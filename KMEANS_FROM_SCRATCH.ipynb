{
 "cells": [
  {
   "cell_type": "markdown",
   "metadata": {},
   "source": [
    "<span style='font-family:serif'>\n",
    "    \n",
    "# <center>$Machine   Learning   From   Scratch$</center>\n",
    "    \n",
    "# <center><span style='background:yellow'> Análise de Agrupamento (K-Means)</span></center>\n",
    "<center>$Rafael Pavan$</center>\n",
    "\n"
   ]
  },
  {
   "cell_type": "markdown",
   "metadata": {},
   "source": [
    "<span style='font-family:serif'>\n",
    "    \n",
    "## 1. Introdução\n",
    "\n",
    "Algoritmos de análise de agrupamento são do tipo não-supervisionado, que possuem como característica o fato de que as observações não possuem um atributo-alvo associado. O objetivo principal de uma análise de agrupamento é subdividir os dados em subgrupos que possuam características semelhantes, denominados geralmente por $clusters$. O algoritmo mais tradicional da área é o K-Means. Este tipo de análise é muito utilizado por empresas que precisam realizar a segmentação de seus clientes com base em costumes que são comuns a um determinado grupo.\n"
   ]
  },
  {
   "cell_type": "code",
   "execution_count": 1,
   "metadata": {},
   "outputs": [],
   "source": [
    "import numpy as np \n",
    "import pandas as pd\n",
    "import matplotlib.pyplot as plt\n",
    "from matplotlib import rcParams\n",
    "rcParams['font.family'] = 'sans-serif'"
   ]
  },
  {
   "cell_type": "markdown",
   "metadata": {},
   "source": [
    "<span style='font-family:serif'>\n",
    "    \n",
    "## 2. Importando e Pré-Visualizando os Dados\n"
   ]
  },
  {
   "cell_type": "code",
   "execution_count": 2,
   "metadata": {},
   "outputs": [],
   "source": [
    "df1 = pd.read_csv('data.csv', sep=',', index_col=None)"
   ]
  },
  {
   "cell_type": "code",
   "execution_count": 3,
   "metadata": {},
   "outputs": [
    {
     "data": {
      "text/html": [
       "<div>\n",
       "<style scoped>\n",
       "    .dataframe tbody tr th:only-of-type {\n",
       "        vertical-align: middle;\n",
       "    }\n",
       "\n",
       "    .dataframe tbody tr th {\n",
       "        vertical-align: top;\n",
       "    }\n",
       "\n",
       "    .dataframe thead th {\n",
       "        text-align: right;\n",
       "    }\n",
       "</style>\n",
       "<table border=\"1\" class=\"dataframe\">\n",
       "  <thead>\n",
       "    <tr style=\"text-align: right;\">\n",
       "      <th></th>\n",
       "      <th>f1</th>\n",
       "      <th>f2</th>\n",
       "    </tr>\n",
       "  </thead>\n",
       "  <tbody>\n",
       "    <tr>\n",
       "      <th>0</th>\n",
       "      <td>7.0</td>\n",
       "      <td>1.0</td>\n",
       "    </tr>\n",
       "    <tr>\n",
       "      <th>1</th>\n",
       "      <td>8.0</td>\n",
       "      <td>2.0</td>\n",
       "    </tr>\n",
       "    <tr>\n",
       "      <th>2</th>\n",
       "      <td>7.5</td>\n",
       "      <td>1.4</td>\n",
       "    </tr>\n",
       "    <tr>\n",
       "      <th>3</th>\n",
       "      <td>7.7</td>\n",
       "      <td>1.2</td>\n",
       "    </tr>\n",
       "    <tr>\n",
       "      <th>4</th>\n",
       "      <td>7.3</td>\n",
       "      <td>1.0</td>\n",
       "    </tr>\n",
       "  </tbody>\n",
       "</table>\n",
       "</div>"
      ],
      "text/plain": [
       "    f1   f2\n",
       "0  7.0  1.0\n",
       "1  8.0  2.0\n",
       "2  7.5  1.4\n",
       "3  7.7  1.2\n",
       "4  7.3  1.0"
      ]
     },
     "execution_count": 3,
     "metadata": {},
     "output_type": "execute_result"
    }
   ],
   "source": [
    "df1.head()"
   ]
  },
  {
   "cell_type": "code",
   "execution_count": 4,
   "metadata": {},
   "outputs": [
    {
     "name": "stdout",
     "output_type": "stream",
     "text": [
      "X: [[7.  1. ]\n",
      " [8.  2. ]\n",
      " [7.5 1.4]\n",
      " [7.7 1.2]\n",
      " [7.3 1. ]]\n"
     ]
    }
   ],
   "source": [
    "X = df1.iloc[:,:].values\n",
    "\n",
    "print('X:', X[0:5,:])"
   ]
  },
  {
   "cell_type": "code",
   "execution_count": 5,
   "metadata": {},
   "outputs": [
    {
     "data": {
      "image/png": "[encoded data removed]",
      "text/plain": [
       "<Figure size 1152x720 with 1 Axes>"
      ]
     },
     "metadata": {
      "needs_background": "light"
     },
     "output_type": "display_data"
    }
   ],
   "source": [
    "plt.figure(figsize=(16,10))\n",
    "\n",
    "plt.scatter( X[:,0], X[:,1], marker='o', label = 'Dados', color='purple', s=90) \n",
    "\n",
    "plt.title('Dados',fontsize='x-large')\n",
    "\n",
    "plt.xlabel('X1',fontsize='x-large')\n",
    "\n",
    "plt.ylabel('X2',fontsize='x-large')\n",
    "\n",
    "plt.grid()"
   ]
  },
  {
   "cell_type": "markdown",
   "metadata": {},
   "source": [
    "<span style='font-family:serif'>\n",
    "\n",
    "No gráfico acima pode-se notar a existência de 3 \"clusters\": Um na diagonal superior esquerda, outro na diagonal inferior direita e um ao centro."
   ]
  },
  {
   "cell_type": "markdown",
   "metadata": {},
   "source": [
    "<span style='font-family:serif'>\n",
    "\n",
    "## 2. Agrupamento de Dados (K-Means)"
   ]
  },
  {
   "cell_type": "markdown",
   "metadata": {},
   "source": [
    "<span style='font-family:serif'>\n",
    "\n",
    "Dado um determinado número de centróides, o algoritmo de K-Means utiliza a distância Euclidiana para encontrar quais centróides estão mais próximos das amostras dos dados. Após isto, seleciona-se o centróide com a menor distância como o representante daquela amostra.\n",
    "\n",
    "A distância Euclidiana é dada pela equação:\n",
    "    \n",
    "    \n",
    "$dist(x,y) = \\sqrt{\\sum_{i=1}^{n} (x_i-y_i)^2}$\n",
    "    \n",
    "Onde $x$ e $y$ são vetores que possuem a mesma dimensão ($n$).\n",
    "    \n",
    "\n"
   ]
  },
  {
   "cell_type": "code",
   "execution_count": 6,
   "metadata": {},
   "outputs": [],
   "source": [
    "def distancia_centroide(X,centroids):\n",
    "    \n",
    "    \"\"\"\n",
    "    Calcula o centróide mais próximo de cada uma das observações. \n",
    "    \n",
    "    Entrada : Matriz de Dados (X), Matriz Centróides Iniciais (centroids).\n",
    "    \n",
    "    Saída:\n",
    "    \n",
    "    indice: um vetor que contém o índice do centróide mais próximo de cada objeto\n",
    "    \n",
    "    d: vetor que contém a distância entre o objeto e o centróide mais próximo.\n",
    "    \n",
    "    \"\"\"\n",
    "    \n",
    "    n = X.shape[0] \n",
    "    \n",
    "    K = centroids.shape[0];\n",
    "\n",
    "    indice = np.zeros( X.shape[0], dtype=int )\n",
    "    d = np.zeros( X.shape[0] )\n",
    "\n",
    "    \n",
    "    \n",
    "    for linha in range(n):\n",
    "        \n",
    "        d[linha] = np.min(np.sqrt(np.sum((centroids-X[linha,:])**2,axis=1)))\n",
    "        indice[linha] = np.argmin(np.sqrt(np.sum((centroids-X[linha,:])**2,axis=1)))\n",
    "    \n",
    "\n",
    "            \n",
    "    return indice, d\n"
   ]
  },
  {
   "cell_type": "code",
   "execution_count": 29,
   "metadata": {},
   "outputs": [
    {
     "name": "stdout",
     "output_type": "stream",
     "text": [
      "Centróides Mais Próximos de Cada Observação: \n",
      "\n",
      "[1 2 1 1 1 2 1 1 1 2 2 0 0 0 0 0 0 0 0 0 0 3 3 3 3 3 3 3 3 3 3 3 3 1 1 1 1\n",
      " 1] \n",
      "\n",
      "Distância de Cada Observação para o Centróide Mais Próximo: \n",
      "\n",
      "[2.         2.         2.53179778 2.70739727 2.3        2.50798724\n",
      " 2.23606798 2.23606798 3.         2.5        2.7        1.58113883\n",
      " 2.23606798 1.41421356 1.         0.90553851 1.22065556 1.33416641\n",
      " 1.71172428 2.00249844 1.70293864 1.         1.         0.70710678\n",
      " 0.5        1.11803399 0.5        0.         1.41421356 0.70710678\n",
      " 0.98994949 0.28284271 0.56568542 2.         1.41421356 2.06155281\n",
      " 1.80277564 1.11803399]\n"
     ]
    }
   ],
   "source": [
    "K = 4\n",
    "\n",
    "centroides = np.array( [[3,4],[5,1],[8,4],[5,3]])\n",
    "indice, d = distancia_centroide(X, centroides)\n",
    "\n",
    "print('Centróides Mais Próximos de Cada Observação: \\n')\n",
    "print(indice,'\\n')\n",
    "\n",
    "print('Distância de Cada Observação para o Centróide Mais Próximo: \\n')\n",
    "print(d)\n",
    "\n"
   ]
  },
  {
   "cell_type": "markdown",
   "metadata": {},
   "source": [
    "<span style='font-family:serif'>\n",
    "\n",
    "Após calcular as distâncias e designar qual centróide está mais próximo de cada amostra, deve-se atualizar o valor dos centróides com base na média das amostras anteriormente classificadas."
   ]
  },
  {
   "cell_type": "code",
   "execution_count": 30,
   "metadata": {},
   "outputs": [
    {
     "name": "stdout",
     "output_type": "stream",
     "text": [
      "Centróides Atualizados:\n",
      "[[3.48       5.37      ]\n",
      " [5.76666667 1.41666667]\n",
      " [7.95       1.575     ]\n",
      " [5.48333333 3.44166667]]\n"
     ]
    }
   ],
   "source": [
    "def calcula_centroides(X, indice, K):\n",
    "    \n",
    "    \"\"\"\n",
    "    Atualiza o valor dos centróides. Esta função retorna uma matriz de centróides, onde cada linha\n",
    "    representa um centróide do problema.\n",
    "    \n",
    "    Entradas: Dados (X).\n",
    "              Vetor posição de cada observação com o valor do centróide mais próximo (indice) \n",
    "    \n",
    "    Saídas: Valor dos centróides atualizado(centroides).\n",
    "    \n",
    "    \"\"\"\n",
    "    \n",
    "    m, n = X.shape \n",
    "    \n",
    "    centroides = np.zeros([K, n])\n",
    "         \n",
    "    for centroid in range(K):\n",
    "        \n",
    "        centroides[centroid,:] = np.mean(X[np.argwhere(indice==centroid)],axis=0) \n",
    "    \n",
    "    \n",
    "    return centroides\n",
    "\n",
    "centroides_atualizados = calcula_centroides(X, indice, K)\n",
    "\n",
    "print('Centróides Atualizados:')\n",
    "print(centroides_atualizados);"
   ]
  },
  {
   "cell_type": "markdown",
   "metadata": {},
   "source": [
    "<span style='font-family:serif'>\n",
    "\n",
    "Uma vez realizado este procedimento, basta agora repetí-lo por um número $x$ de iterações até que o algoritmo convirja. O algoritmo completo foi realizado abaixo:\n",
    "\n"
   ]
  },
  {
   "cell_type": "code",
   "execution_count": 31,
   "metadata": {},
   "outputs": [],
   "source": [
    "def k_means(X, centroides, max_iters, historico = False):\n",
    "    \n",
    "    '''\n",
    "    Executa o K-Means sobre a base de dados X.\n",
    "    Retorna os centróides encontrados na última iteração. Retorna o vetor idx, onde cada elemento possui valor \n",
    "    entre [0..K]. \n",
    "    \n",
    "    Entrada: Dados (X).\n",
    "             Valores de Centróides Iniciais (centroides)\n",
    "             Número Máximo de Iterações\n",
    "             \n",
    "    '''\n",
    "\n",
    "\n",
    "    m, n = X.shape \n",
    "    K = centroides.shape[0]\n",
    "    \n",
    "    centroids = centroides \n",
    "    centroides_anteriores = centroids  \n",
    "    \n",
    "    idx = np.zeros( m ) \n",
    "    \n",
    "    if historico:\n",
    "        \n",
    "        past = [] \n",
    "    \n",
    "    for i in range(max_iters):\n",
    "           \n",
    "        idx, dist = distancia_centroide(X, centroids)\n",
    "\n",
    "        if historico:\n",
    "        \n",
    "            past.append(centroids)\n",
    "            \n",
    "        centroids = calcula_centroides(X, idx, K);\n",
    "        \n",
    "    idx, dist = distancia_centroide(X, centroids)\n",
    "    \n",
    "    if historico:\n",
    "        return centroids, idx, dist, past\n",
    "    else:\n",
    "        return centroids, idx, dist\n",
    "    \n",
    "centroids, idx, dist, passado = k_means(X, centroides, 100, historico = True)\n"
   ]
  },
  {
   "cell_type": "code",
   "execution_count": 32,
   "metadata": {},
   "outputs": [
    {
     "data": {
      "text/plain": [
       "array([[3.48      , 5.37      ],\n",
       "       [3.5       , 1.6       ],\n",
       "       [7.59090909, 1.39090909],\n",
       "       [5.48333333, 3.44166667]])"
      ]
     },
     "execution_count": 32,
     "metadata": {},
     "output_type": "execute_result"
    }
   ],
   "source": [
    "centroids"
   ]
  },
  {
   "cell_type": "markdown",
   "metadata": {},
   "source": [
    "<span style='font-family:serif'>\n",
    "    \n",
    "Vamos visualizar os quatro centróides (clusters) encontrados:"
   ]
  },
  {
   "cell_type": "code",
   "execution_count": 33,
   "metadata": {},
   "outputs": [
    {
     "data": {
      "text/plain": [
       "<matplotlib.collections.PathCollection at 0x7f3ab9a73890>"
      ]
     },
     "execution_count": 33,
     "metadata": {},
     "output_type": "execute_result"
    },
    {
     "data": {
      "image/png": "[encoded data removed]",
      "text/plain": [
       "<Figure size 1152x720 with 1 Axes>"
      ]
     },
     "metadata": {
      "needs_background": "light"
     },
     "output_type": "display_data"
    }
   ],
   "source": [
    "plt.figure(figsize=(16,10))\n",
    "\n",
    "plt.scatter( X[:,0], X[:,1], marker='o', label = 'Dados', color='purple', s=90) \n",
    "\n",
    "plt.title('K - Centróides Encontrados',fontsize='x-large')\n",
    "\n",
    "plt.xlabel('X1',fontsize='x-large')\n",
    "\n",
    "plt.ylabel('X2',fontsize='x-large')\n",
    "\n",
    "plt.grid()\n",
    "\n",
    "plt.scatter( centroids[:,0], centroids[:,1], marker='x', label = 'Centróides', color='red', s=90) "
   ]
  },
  {
   "cell_type": "markdown",
   "metadata": {},
   "source": [
    "<span style='font-family:serif'>\n",
    "A cada iteração foi guardada a posição dos centróides. Graças a isso, pode-se agora plotar um a um, de modo a demarcar a trajetória percorrida do ponto inicial ao final de cada cluster. Para isso foi criada a função plota_historico."
   ]
  },
  {
   "cell_type": "code",
   "execution_count": 34,
   "metadata": {},
   "outputs": [],
   "source": [
    "def plota_historico(historico):\n",
    "    \n",
    "    passado=historico\n",
    "\n",
    "    plt.figure(figsize=(16,10))\n",
    "\n",
    "    plt.scatter( X[:,0], X[:,1], marker='o', label = 'Dados', color='blue', s=50) \n",
    "\n",
    "    plt.title('K - Centróides Encontrados (Histórico de Procura)',fontsize='x-large')\n",
    "\n",
    "    plt.xlabel('X1',fontsize='x-large')\n",
    "\n",
    "    plt.ylabel('X2',fontsize='x-large')\n",
    "\n",
    "    plt.grid()\n",
    "\n",
    "\n",
    "    for item in range(len(passado)):\n",
    "\n",
    "        for ponto in range( centroides.shape[0] ):\n",
    "\n",
    "            if ponto == len(passado)-1:\n",
    "\n",
    "                plt.scatter( passado[item][ponto,0], passado[item][ponto,1], marker='x', color='black', s=50) \n",
    "\n",
    "            else:\n",
    "\n",
    "                plt.scatter( passado[item][ponto,0], passado[item][ponto,1], marker='x', color='black', s=50) \n",
    "\n",
    "            if item>0:\n",
    "\n",
    "                    plt.plot([passado[item-1][ponto,0], passado[item][ponto,0]], [passado[item-1][ponto,1], passado[item][ponto,1]], color='gray', linestyle='-.')  \n",
    "\n",
    "\n",
    "\n",
    "    plt.scatter( centroids[:,0], centroids[:,1], marker='x', label = 'Centróides', color='red', s=200) "
   ]
  },
  {
   "cell_type": "code",
   "execution_count": 35,
   "metadata": {},
   "outputs": [
    {
     "data": {
      "image/png": "[encoded data removed]",
      "text/plain": [
       "<Figure size 1152x720 with 1 Axes>"
      ]
     },
     "metadata": {
      "needs_background": "light"
     },
     "output_type": "display_data"
    }
   ],
   "source": [
    "plota_historico(passado)"
   ]
  },
  {
   "cell_type": "markdown",
   "metadata": {},
   "source": [
    "<span style='font-family:serif'>\n",
    "\n",
    "## 3. Otimizando o Número de Centróides"
   ]
  },
  {
   "cell_type": "markdown",
   "metadata": {},
   "source": [
    "<span style='font-family:serif'>\n",
    "\n",
    "Para ajudar a determinar o número ótimo de clusters, criou-se uma função objetivo que calcula a soma ao quadrado das distâncias de cada ponto para o centróide de seu cluster, dividido pela quantidade de observações.\n",
    "\n",
    "$$\\Omega = \\frac{1}{n} \\sum_{i=1}^{n} (x^{(i)} - \\Phi_{(i)} )^2 $$\n",
    "    \n",
    "Onde:\n",
    "    \n",
    "- $x$ : Amostra de Dados;\n",
    "- $n$ : Número Total de Amostras;\n",
    "- $\\Omega$ : Função Objetivo;\n",
    "- $\\Phi$ : Cetróide Referente a Amostra;\n",
    "\n",
    "Dessa maneira, ao rodar o algoritmo para diversos números de clusters, teremos uma métrica de quão adequada ao problema é cada quantidade de centróides. As quantidades que geram o menor valor da função objetivo, são as melhores opções \"matemáticas\" para solução do problema. É importante ressaltar que o problema em questão foi realizado para fins didáticos, e na vida real, na maioria dos casos uma maior quantidade de clusters vai sempre otimizar a função objetivo. Embora a matemática seja maravilhosa, o conhecimento específico dos analistas e cientistas também é muito valioso. Deve-se utilizar a ferramenta como uma forma de embasar teorias previamente criadas com base no conhecimento técnico de negócio sobre a área de estudo, não somente pelos resultados numéricos."
   ]
  },
  {
   "cell_type": "code",
   "execution_count": 36,
   "metadata": {},
   "outputs": [],
   "source": [
    "def func_objetivo(d):\n",
    "    \n",
    "    \"\"\"\"\n",
    "    \n",
    "    A função objetivo retorna um valor que ajuda a otimizar a quantidade de clusters. A melhor combinação de clusters\n",
    "    retornará o menor valor da função objetivo.\n",
    "    \n",
    "    Entrada: Distância dos Clusters (d).\n",
    "    Saída: Custo(c)\n",
    "    \n",
    "    \"\"\"\n",
    "    \n",
    "       \n",
    "    m = len(d)\n",
    "\n",
    "    custo=np.sum(dist**2)/m\n",
    "    \n",
    "    return custo\n",
    "    "
   ]
  },
  {
   "cell_type": "code",
   "execution_count": 60,
   "metadata": {},
   "outputs": [],
   "source": [
    "vetor_de_k = np.array([1,2,3,4,6])\n",
    "\n",
    "custos = []\n",
    "\n",
    "for k in vetor_de_k:\n",
    "\n",
    "    centroides = X[np.random.permutation(range(X.shape[0]))[0:k],:]\n",
    "    \n",
    "    centroids, idx, dist, passado = k_means(X, centroides, 50, historico = True)\n",
    "    \n",
    "    custos.append(func_objetivo(dist))\n",
    "       "
   ]
  },
  {
   "cell_type": "code",
   "execution_count": 63,
   "metadata": {},
   "outputs": [
    {
     "data": {
      "image/png": "[encoded data removed]",
      "text/plain": [
       "<Figure size 1152x720 with 1 Axes>"
      ]
     },
     "metadata": {
      "needs_background": "light"
     },
     "output_type": "display_data"
    }
   ],
   "source": [
    "plt.figure(figsize=(16,10))\n",
    "plt.plot(vetor_de_k,custos)\n",
    "plt.title('Penalidade Por Valor de K-Clusters',fontsize='x-large')\n",
    "plt.xlabel('Nº de K-Clusters',fontsize='x-large')\n",
    "plt.ylabel('Penalidade (Função Objetivo)',fontsize='x-large')\n",
    "plt.grid()\n"
   ]
  },
  {
   "cell_type": "markdown",
   "metadata": {},
   "source": [
    "<span style='font-family:serif'>\n",
    "\n",
    "Para o estudo de caso realizado, o número ótimo de clusters é 4, pois a função objetivo retorna o menor valor de penalidade. Neste caso em específico, a matemática concorda com a análise prévia realizada pela visualização da disposição das amostras no plano $R_{2}$."
   ]
  }
 ],
 "metadata": {
  "kernelspec": {
   "display_name": "Python 3",
   "language": "python",
   "name": "python3"
  },
  "language_info": {
   "codemirror_mode": {
    "name": "ipython",
    "version": 3
   },
   "file_extension": ".py",
   "mimetype": "text/x-python",
   "name": "python",
   "nbconvert_exporter": "python",
   "pygments_lexer": "ipython3",
   "version": "3.7.6"
  }
 },
 "nbformat": 4,
 "nbformat_minor": 4
}
